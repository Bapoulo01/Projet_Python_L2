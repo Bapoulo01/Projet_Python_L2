{
 "cells": [
  {
   "cell_type": "markdown",
   "metadata": {},
   "source": [
    "Exo 3:\n",
    "Écrire un programme qui permet de saisir une chaîne de N phrases. Le programme enlève tous les espaces inutiles de chaque phrase puis réaffiche les phrases corrigées.\n",
    "\n",
    "Règles de Gestion:\n",
    "● La chaîne de saisie est Obligatoire\n",
    "● Les phrases ne doivent pas contenir des caractères spéciaux\n",
    "● Une phrase commence par une lettre majuscule et se termine par un point (. ou ?ou !)\n",
    "● Chaque phrase contiendra au moins 25 caractères"
   ]
  },
  {
   "cell_type": "code",
   "execution_count": 2,
   "metadata": {},
   "outputs": [
    {
     "name": "stdout",
     "output_type": "stream",
     "text": [
      "Entrez une chaîne de N phrases:\n",
      "La phrase 'La bonne humeur des uns ou le maertyu' n'est pas valide.\n"
     ]
    }
   ],
   "source": [
    "import re\n",
    "\n",
    "def valider_phrase(phrase):\n",
    "    # Vérifie si la phrase commence par une lettre majuscule\n",
    "    if not phrase[0].isupper():\n",
    "        return False\n",
    "    \n",
    "    # Vérifie si la phrase se termine par un point, un point d'interrogation ou un point d'exclamation\n",
    "    if not (phrase[-1] == '.' or phrase[-1] == '?' or phrase[-1] == '!'):\n",
    "        return False\n",
    "    \n",
    "    # Vérifie si la phrase contient au moins 25 caractères\n",
    "    if len(phrase) < 25:\n",
    "        return False\n",
    "    \n",
    "    return True\n",
    "\n",
    "def supprimer_espaces_inutiles(phrase):\n",
    "    # Supprimer les espaces au début et à la fin\n",
    "    phrase = phrase.strip()\n",
    "    \n",
    "    # Remplacer les espaces multiples entre les mots par un seul espace\n",
    "    phrase = re.sub(' +', ' ', phrase)\n",
    "    \n",
    "    return phrase\n",
    "\n",
    "def main():\n",
    "    print(\"Entrez une chaîne de N phrases:\")\n",
    "    phrases = input().split('.')\n",
    "    \n",
    "    phrases_corrigees = []\n",
    "    for phrase in phrases:\n",
    "        # Ignorer les phrases vides\n",
    "        if not phrase:\n",
    "            continue\n",
    "        \n",
    "        # Valider la phrase selon les règles\n",
    "        if valider_phrase(phrase):\n",
    "            # Supprimer les espaces inutiles\n",
    "            phrase_corrigee = supprimer_espaces_inutiles(phrase)\n",
    "            phrases_corrigees.append(phrase_corrigee)\n",
    "        else:\n",
    "            print(f\"La phrase '{phrase}' n'est pas valide.\")\n",
    "    \n",
    "    # Réafficher les phrases corrigées\n",
    "    for phrase in phrases_corrigees:\n",
    "        print(phrase)\n",
    "\n",
    "if __name__ == \"__main__\":\n",
    "    main()\n"
   ]
  },
  {
   "cell_type": "code",
   "execution_count": null,
   "metadata": {},
   "outputs": [],
   "source": []
  }
 ],
 "metadata": {
  "kernelspec": {
   "display_name": "Python 3",
   "language": "python",
   "name": "python3"
  },
  "language_info": {
   "codemirror_mode": {
    "name": "ipython",
    "version": 3
   },
   "file_extension": ".py",
   "mimetype": "text/x-python",
   "name": "python",
   "nbconvert_exporter": "python",
   "pygments_lexer": "ipython3",
   "version": "3.12.3"
  }
 },
 "nbformat": 4,
 "nbformat_minor": 2
}

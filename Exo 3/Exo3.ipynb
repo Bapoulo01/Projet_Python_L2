{
 "cells": [
  {
   "cell_type": "markdown",
   "metadata": {},
   "source": [
    "Exo 3:\n",
    "Écrire un programme qui permet de saisir une chaîne de N phrases. Le programme enlève tous les espaces inutiles de chaque phrase puis réaffiche les phrases corrigées.\n",
    "\n",
    "Règles de Gestion:\n",
    "● La chaîne de saisie est Obligatoire\n",
    "● Les phrases ne doivent pas contenir des caractères spéciaux\n",
    "● Une phrase commence par une lettre majuscule et se termine par un point (. ou ?ou !)\n",
    "● Chaque phrase contiendra au moins 25 caractères"
   ]
  },
  {
   "cell_type": "code",
   "execution_count": null,
   "metadata": {},
   "outputs": [],
   "source": []
  }
 ],
 "metadata": {
  "language_info": {
   "name": "python"
  }
 },
 "nbformat": 4,
 "nbformat_minor": 2
}

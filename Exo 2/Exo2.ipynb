{
 "cells": [
  {
   "cell_type": "code",
   "execution_count": null,
   "metadata": {},
   "outputs": [],
   "source": [
    "Exercice 2:\n",
    "Écrire un programme qui permet de saisir une phrase. Le programme enlève tous les espaces inutiles de la phrase."
   ]
  },
  {
   "cell_type": "code",
   "execution_count": null,
   "metadata": {},
   "outputs": [],
   "source": [
    "phrase = str(input(\"Veiller ecrire une phrase :\"))\n",
    "result = phrase.split() # Divise la phrase en une liste de mots\n",
    "\n",
    "phrase_corrige = ' '.join(result) # Rejoindre les mots avec un seul espace\n",
    "\n",
    "\n",
    "print(phrase_corrige)  \n"
   ]
  },
  {
   "cell_type": "code",
   "execution_count": null,
   "metadata": {},
   "outputs": [],
   "source": [
    "def new_phrase(phrase):\n",
    "    # Supprimer les espaces en début et fin de phrase\n",
    "    phrase_nettoyee = phrase.strip()\n",
    "    \n",
    "    # Remplacer plusieurs espaces par un seul\n",
    "    phrase_nettoyee = ' '.join(phrase_nettoyee.split())\n",
    "    \n",
    "    return phrase_nettoyee\n",
    "\n",
    "# Saisir la phrase\n",
    "phrase = input(\"Entrez une phrase : \")\n",
    "\n",
    "# Nettoyer la phrase\n",
    "phrase_nettoyee = new_phrase(phrase)\n",
    "\n",
    "# Afficher le résultat\n",
    "print(\"Phrase changé :\", phrase_nettoyee)\n"
   ]
  }
 ],
 "metadata": {
  "kernelspec": {
   "display_name": "Python 3",
   "language": "python",
   "name": "python3"
  },
  "language_info": {
   "codemirror_mode": {
    "name": "ipython",
    "version": 3
   },
   "file_extension": ".py",
   "mimetype": "text/x-python",
   "name": "python",
   "nbconvert_exporter": "python",
   "pygments_lexer": "ipython3",
   "version": "3.12.3"
  }
 },
 "nbformat": 4,
 "nbformat_minor": 2
}

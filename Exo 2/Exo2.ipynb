{
 "cells": [
  {
   "cell_type": "code",
   "execution_count": null,
   "metadata": {},
   "outputs": [],
   "source": [
    "Exercice 2:\n",
    "Écrire un programme qui permet de saisir une phrase. Le programme enlève tous les espaces inutiles de la phrase."
   ]
  },
  {
   "cell_type": "code",
   "execution_count": null,
   "metadata": {},
   "outputs": [],
   "source": [
    "phrase = str(input(\"Veiller ecrire une phrase :\"))\n",
    "result = phrase.split() # Divise la phrase en une liste de mots\n",
    "\n",
    "phrase_corrige = ' '.join(result) # Rejoindre les mots avec un seul espace\n",
    "\n",
    "\n",
    "print(phrase_corrige)  \n"
   ]
  }
 ],
 "metadata": {
  "kernelspec": {
   "display_name": "Python 3",
   "language": "python",
   "name": "python3"
  },
  "language_info": {
   "codemirror_mode": {
    "name": "ipython",
    "version": 3
   },
   "file_extension": ".py",
   "mimetype": "text/x-python",
   "name": "python",
   "nbconvert_exporter": "python",
   "pygments_lexer": "ipython3",
   "version": "3.12.3"
  }
 },
 "nbformat": 4,
 "nbformat_minor": 2
}

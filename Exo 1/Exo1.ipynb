{
 "cells": [
  {
   "cell_type": "code",
   "execution_count": null,
   "metadata": {},
   "outputs": [],
   "source": [
    "Exercice 1:\n",
    "Écrire un programme qui propose à l’utilisateur le menu de choix suivant :\n",
    "f - Français\n",
    "a - Anglais\n",
    "Règles de Gestion\n",
    "●\n",
    "Par défaut le programme affiche les mois en Français\n",
    "●\n",
    "Les mois doivent être affichés comme ci-dessous\n",
    "●\n",
    "Les mois sont stockés dans un tableau"
   ]
  },
  {
   "cell_type": "code",
   "execution_count": 2,
   "metadata": {},
   "outputs": [
    {
     "name": "stdout",
     "output_type": "stream",
     "text": [
      "Veuillez choisir une langue : \n",
      " f pour Français \n",
      " a pour Anglais\n",
      "Les mois en Anglais sont :\n",
      "['January', 'February', 'March', 'April', 'May', 'June', 'July', 'August', 'September', 'October', 'November', 'December']\n"
     ]
    }
   ],
   "source": [
    "# Liste des mois en Français\n",
    "mois_Francais = [\"Janvier\", \"Février\", \"Mars\", \"Avril\", \"Mai\", \"Juin\", \"Juillet\", \"Août\", \"Septembre\", \"Octobre\", \"Novembre\", \"Décembre\"]\n",
    "# Liste des mois en Anglais\n",
    "mois_Anglais = [\"January\", \"February\", \"March\", \"April\", \"May\", \"June\", \"July\", \"August\", \"September\", \"October\", \"November\", \"December\"]\n",
    "\n",
    "# Donner la possibilité au user de faire son choix\n",
    "print(\"Veuillez choisir une langue : \\n f pour Français \\n a pour Anglais\" )\n",
    "choix = input(\"Entrez votre choix (f/a) : \").strip().lower()\n",
    "\n",
    "# Affichage des mois selon le choix (liste brute pour l'instant)\n",
    "if choix == \"f\":\n",
    "    print(\"Les mois en Français sont :\")\n",
    "    print(mois_Francais)\n",
    "elif choix == \"a\":\n",
    "    print(\"Les mois en Anglais sont :\")\n",
    "    print(mois_Anglais)\n",
    "\n",
    "# Message en cas de choix non pris en compte\n",
    "else:\n",
    "    print(f\"La langue {choix} n'a pas de correspondance ici\")"
   ]
  }
 ],
 "metadata": {
  "kernelspec": {
   "display_name": "Python 3",
   "language": "python",
   "name": "python3"
  },
  "language_info": {
   "codemirror_mode": {
    "name": "ipython",
    "version": 3
   },
   "file_extension": ".py",
   "mimetype": "text/x-python",
   "name": "python",
   "nbconvert_exporter": "python",
   "pygments_lexer": "ipython3",
   "version": "3.12.3"
  }
 },
 "nbformat": 4,
 "nbformat_minor": 2
}
